{
 "cells": [
  {
   "cell_type": "markdown",
   "metadata": {},
   "source": [
    "## Load Packages"
   ]
  },
  {
   "cell_type": "code",
   "execution_count": 66,
   "metadata": {},
   "outputs": [],
   "source": [
    "import cv2 as cv\n",
    "import numpy as np\n",
    "import matplotlib.pyplot as plt\n",
    "import matplotlib.image as mpimg\n",
    "import os\n",
    "from collections import deque"
   ]
  },
  {
   "cell_type": "markdown",
   "metadata": {},
   "source": [
    "## Functions"
   ]
  },
  {
   "cell_type": "markdown",
   "metadata": {},
   "source": [
    "### Loading in Image"
   ]
  },
  {
   "cell_type": "code",
   "execution_count": 67,
   "metadata": {},
   "outputs": [],
   "source": [
    "def load_image(annotation_path, slice_path, plots = True):\n",
    "    # Reading in images and converting to RGB for plotting\n",
    "    annotation = cv.cvtColor(cv.imread(annotation_path), cv.COLOR_BGR2RGB)\n",
    "    slice = cv.cvtColor(cv.imread(slice_path), cv.COLOR_BGR2RGB)\n",
    "\n",
    "    # Creating plots\n",
    "    if plots is True:\n",
    "        fig, axes = plt.subplots(1, 2, figsize = (8, 8))\n",
    "        plt.subplots_adjust(wspace = 0.3)\n",
    "        axes[0].imshow(annotation)\n",
    "        axes[0].set_title(os.path.basename(annotation_path))\n",
    "        axes[1].imshow(slice)\n",
    "        axes[1].set_title(os.path.basename(slice_path))\n",
    "        plt.show()\n",
    "\n",
    "    # Returning array sizes to verify that they are the same\n",
    "    print(f\"Annotation Shape: {annotation.shape} \\nSlice Shape: {slice.shape}\")\n",
    "\n",
    "    # Return annotation and slice arrays\n",
    "    return annotation, slice"
   ]
  },
  {
   "cell_type": "markdown",
   "metadata": {},
   "source": [
    "### Getting Masks for Each Epithelium \"Object\""
   ]
  },
  {
   "cell_type": "code",
   "execution_count": 68,
   "metadata": {},
   "outputs": [],
   "source": [
    "def get_masks(annotation, slice, plots = True):\n",
    "    # Convert annotated image to grayscale\n",
    "    annotation_gray = cv.cvtColor(annotation, cv.COLOR_RGB2GRAY)\n",
    "    # All pixels with a grayscale value above 127 converted to white, all below converted to black\n",
    "    thresh = cv.threshold(annotation_gray, 127, 255, 0)[1]\n",
    "    # Get contours\n",
    "    contours, hierarchy = cv.findContours(thresh, cv.RETR_TREE, cv.CHAIN_APPROX_NONE)\n",
    "    # Create list to store individual object masks and coordinates\n",
    "    masks = []\n",
    "    # Get object masks\n",
    "    for count, i in enumerate(np.argwhere(hierarchy[0, :, 3] == 0).ravel()):\n",
    "        mask_dict = {}\n",
    "        mask_dict['mask'] = np.zeros_like(annotation_gray)\n",
    "        cv.drawContours(mask_dict['mask'], contours, i, 255, -1)\n",
    "        mask_dict['epithelium_points'] = np.transpose(np.nonzero(mask_dict['mask']))\n",
    "        masks.append(mask_dict)\n",
    "    \n",
    "    # Plot object masks and original slice\n",
    "    if plots is True:\n",
    "        number = len(masks)\n",
    "        fig, axes = plt.subplots(1, number + 1, figsize = (4 * (number + 1), 4 * (number + 1)))\n",
    "        plt.subplots_adjust(wspace = 0.3)\n",
    "        for i in range(number):\n",
    "            mask = masks[i]['mask']\n",
    "            axes[i].imshow(mask, 'gray', vmin = 0, vmax = 255)\n",
    "            axes[i].set_title(f'Mask {i + 1}')\n",
    "        axes[number].imshow(slice)\n",
    "        axes[number].set_title(\"Original\")\n",
    "        plt.show()\n",
    "\n",
    "    # Return list of masks\n",
    "    return masks"
   ]
  },
  {
   "cell_type": "markdown",
   "metadata": {},
   "source": [
    "### Centering"
   ]
  },
  {
   "cell_type": "code",
   "execution_count": 69,
   "metadata": {},
   "outputs": [],
   "source": [
    "def center(mask, current_point, number_centering_moves = 3):\n",
    "    # Center along shorter \"width\" number_centering_moves times\n",
    "    for i in range(number_centering_moves):\n",
    "        # Finds first pixel that's non-epithelium (0, 80, 120) or patched (160, 210) in all four directions from current point\n",
    "        # And takes one step toward the point to get back on the epithelium\n",
    "        horizontal_zero_indices = np.argwhere(mask[current_point[0], :] <= 210)\n",
    "        left_bound = np.where(horizontal_zero_indices <= current_point[1], horizontal_zero_indices, -np.inf).max() + 1\n",
    "        right_bound = np.where(horizontal_zero_indices > current_point[1], horizontal_zero_indices, np.inf).min() - 1\n",
    "        vertical_zero_indices = np.argwhere(mask[:, current_point[1]] <= 210)\n",
    "        top_bound = np.where(vertical_zero_indices <= current_point[0], vertical_zero_indices, -np.inf).max() + 1\n",
    "        bottom_bound = np.where(vertical_zero_indices > current_point[0], vertical_zero_indices, np.inf).min() - 1\n",
    "        \n",
    "        # Check if on edge\n",
    "        on_horizontal_edge = False\n",
    "        on_vertical_edge = False\n",
    "        if right_bound == current_point[1] or left_bound == current_point[1]:\n",
    "            on_horizontal_edge = True\n",
    "        if bottom_bound == current_point[0] or top_bound == current_point[0]:\n",
    "            on_vertical_edge = True\n",
    "        \n",
    "        # Calculate widths\n",
    "        widths = np.array([right_bound - left_bound, bottom_bound - top_bound])\n",
    "\n",
    "        # Move to center of shorter width if not on an edge\n",
    "        shorter_width = np.argmin(widths)\n",
    "        if not on_horizontal_edge and not on_vertical_edge:\n",
    "            if shorter_width == 0:\n",
    "                current_point[1] = (right_bound + left_bound) // 2\n",
    "            else:\n",
    "                current_point[0] = (bottom_bound + top_bound) // 2\n",
    "            continue\n",
    "        \n",
    "        # If on an edge, move to center of width that isn't the edge\n",
    "        # If on both edges, just defaults to moving horizontally\n",
    "        # Moving in both directions simultaneously without computational expense of recalculating after first move is dangerous\n",
    "        # Could end up outside epithelium\n",
    "        if on_horizontal_edge:\n",
    "            current_point[0] = (bottom_bound + top_bound) // 2\n",
    "        else:\n",
    "            current_point[1] = (right_bound + left_bound) // 2\n",
    "        \n",
    "    directions = ['right', 'left'] if shorter_width == 1 else ['up', 'down']\n",
    "\n",
    "    # Return point to draw squares off\n",
    "    # whether to go vertically/horizontally (shorter_width == 0 or 1) \n",
    "    # and the width in that direction\n",
    "    return current_point, directions, np.min(widths)"
   ]
  },
  {
   "cell_type": "markdown",
   "metadata": {},
   "source": [
    "### Get Initial Corners"
   ]
  },
  {
   "cell_type": "code",
   "execution_count": 70,
   "metadata": {},
   "outputs": [],
   "source": [
    "def get_corners(point, width, direction):\n",
    "    corners = np.array([0, 0, 0, 0])\n",
    "    half_width = width // 2\n",
    "    # If width is odd amount, add back 1 in certain case to ensure width reaches both edges\n",
    "    floor_division_adjustment = 0 if width % 2 == 0 else 1\n",
    "    x, y = point[1], point[0]\n",
    "    \n",
    "    # Direction square will be drawn determines calculation of \"corners\" (really x and y values) based on current point\n",
    "    if direction == 'right':\n",
    "        corners[0] = x + width\n",
    "        corners[1] = y + half_width + floor_division_adjustment\n",
    "        corners[2] = x\n",
    "        corners[3] = y - half_width\n",
    "    elif direction == 'down':\n",
    "        corners[0] = x + half_width + floor_division_adjustment\n",
    "        corners[1] = y + width\n",
    "        corners[2] = x - half_width\n",
    "        corners[3] = y\n",
    "    elif direction == 'left':\n",
    "        corners[0] = x\n",
    "        corners[1] = y + half_width + floor_division_adjustment\n",
    "        corners[2] = x - width\n",
    "        corners[3] = y - half_width\n",
    "    else:\n",
    "        corners[0] = x + half_width + floor_division_adjustment\n",
    "        corners[1] = y\n",
    "        corners[2] = x - half_width\n",
    "        corners[3] = y - width\n",
    "        \n",
    "    return corners"
   ]
  },
  {
   "cell_type": "markdown",
   "metadata": {},
   "source": [
    "### Check Square Validity"
   ]
  },
  {
   "cell_type": "code",
   "execution_count": 71,
   "metadata": {},
   "outputs": [],
   "source": [
    "def get_corner_validity(corners, mask):\n",
    "    # Getting indexes for axes that determine square\n",
    "    right = corners[0]\n",
    "    bottom = corners[1]\n",
    "    left = corners[2]\n",
    "    top = corners[3]\n",
    "\n",
    "    # Checking corner validity\n",
    "    # Basically the condition here is at least one pixel adjacent to each corner or the corner itself \n",
    "    # has to fall on a non-epithelial pixel (corresponds to values of 0, 80 and 120)\n",
    "    upper_right, lower_right, lower_left, upper_left = True, True, True, True\n",
    "    if top > 1 and right < (mask.shape[1] - 2):\n",
    "        if mask[top, right + 1] > 120 and mask[top - 1, right] > 120 and mask[top, right] > 120:\n",
    "            upper_right = False\n",
    "    if bottom < (mask.shape[0] - 2) and right < (mask.shape[1] - 2):\n",
    "        if mask[bottom, right + 1] > 120 and mask[bottom + 1, right] > 120 and mask[bottom, right] > 120:\n",
    "            lower_right = False\n",
    "    if bottom < (mask.shape[0] - 2) and left > 1:\n",
    "        if mask[bottom, left - 1] > 120 and mask[bottom + 1, left] > 120 and mask[bottom, left] > 120:\n",
    "            lower_left = False\n",
    "    if top > 1 and left > 1:\n",
    "        if mask[top, left - 1] > 120 and mask[top - 1, left] > 120 and mask[top, left] > 120:\n",
    "            upper_left = False\n",
    "    corner_validity_array = np.array([upper_right, lower_right, lower_left, upper_left])\n",
    "    corner_validity = True if False not in corner_validity_array else False\n",
    "    \n",
    "    return corner_validity, corner_validity_array"
   ]
  },
  {
   "cell_type": "code",
   "execution_count": 72,
   "metadata": {},
   "outputs": [],
   "source": [
    "def get_side_validity(corners, mask):\n",
    "    # Getting indexes for axes that determine square\n",
    "    right = corners[0]\n",
    "    bottom = corners[1]\n",
    "    left = corners[2]\n",
    "    top = corners[3]\n",
    "\n",
    "    # Checking side validity\n",
    "    # Looking at square of pixels directly around the patch\n",
    "    # A maximum of two sides in that square can have epithelium pixels on them\n",
    "    outer_right = int(min(right + 1, (mask.shape[1] - 1)))\n",
    "    outer_bottom = int(min(bottom + 1, (mask.shape[0] - 1)))\n",
    "    outer_left = int(max(left - 1, 0))\n",
    "    outer_top = int(max(top - 1, 0))\n",
    "    \n",
    "    right_valid, bottom_valid, left_valid, top_valid = True, True, True, True\n",
    "    if np.max(mask[outer_top:outer_bottom, outer_right]) > 120:\n",
    "        right_valid = False\n",
    "    if np.max(mask[outer_bottom, outer_left:outer_right]) > 120:\n",
    "        bottom_valid = False\n",
    "    if np.max(mask[outer_top:outer_bottom, outer_left]) > 120:\n",
    "        left_valid = False\n",
    "    if np.max(mask[outer_top, outer_left:outer_right]) > 120:\n",
    "        top_valid = False\n",
    "    side_validity_array = np.array([right_valid, bottom_valid, left_valid, top_valid])\n",
    "    side_validity = np.sum(side_validity_array)\n",
    "\n",
    "    return side_validity, side_validity_array"
   ]
  },
  {
   "cell_type": "code",
   "execution_count": 73,
   "metadata": {},
   "outputs": [],
   "source": [
    "def get_overlap(corners, mask):\n",
    "    # Getting indexes for axes that determine square\n",
    "    right = int(min(corners[0], (mask.shape[1] - 1)))\n",
    "    bottom = int(min(corners[1], (mask.shape[0] - 1)))\n",
    "    left = int(max(corners[2], 0))\n",
    "    top = int(max(corners[3], 0))\n",
    "\n",
    "    # Checking overlap\n",
    "    # Looking at sides, if there are any values of 160\n",
    "    # This is faster than checking the entire square and equally accurate, even if it is more verbose for what it's worth\n",
    "    # If we hypothetically decide to allow overlap, then just check % of 160s in potential square and see if under threshold\n",
    "    right_overlap, bottom_overlap, left_overlap, top_overlap = False, False, False, False\n",
    "    if 120 in mask[top:bottom, right] or 160 in mask[top:bottom, right]:\n",
    "        right_overlap = True\n",
    "    if 120 in mask[top:bottom, right] or 160 in mask[bottom, left:right]:\n",
    "        bottom_overlap = True\n",
    "    if 120 in mask[top:bottom, right] or 160 in mask[top:bottom, left]:\n",
    "        left_overlap = True\n",
    "    if 120 in mask[top:bottom, right] or 160 in mask[top, left:right]:\n",
    "        top_overlap = True\n",
    "    overlap_array = np.array([right_overlap, bottom_overlap, left_overlap, top_overlap])\n",
    "\n",
    "    # If there is overlap, overlap = True and under these conditions, square will just be discarded\n",
    "    # As stated in comments above, setting a maximum overlap threshold is possible\n",
    "    overlap = True if True in overlap_array else False\n",
    "\n",
    "    return overlap, overlap_array"
   ]
  },
  {
   "cell_type": "markdown",
   "metadata": {},
   "source": [
    "### Fixing Validity"
   ]
  },
  {
   "cell_type": "code",
   "execution_count": 74,
   "metadata": {},
   "outputs": [],
   "source": [
    "def fix_corner_validity(corners, mask, direction, corner_validity):\n",
    "    # If no corners have issues, don't do anything\n",
    "    if corner_validity != True:\n",
    "        right = corners[0]\n",
    "        bottom = corners[1]\n",
    "        left = corners[2]\n",
    "        top = corners[3]\n",
    "\n",
    "        # Fixing Invalid Corners (only check two that weren't on original width)\n",
    "        # Find distances to edges for the invalid corners, move those corners to the edges\n",
    "        # Then add both distances axis connecting those corners to keep shape of square\n",
    "        if direction == 'right':\n",
    "            vertical_zero_indices = np.argwhere(mask[:, right] <= 120)\n",
    "            distance_down = np.where(vertical_zero_indices > bottom, vertical_zero_indices, np.inf).min() - 1 - bottom\n",
    "            distance_up = top - np.where(vertical_zero_indices < top, vertical_zero_indices, -np.inf).max() + 1\n",
    "            corners = np.array([right + distance_down + distance_up, bottom + distance_down, left, top - distance_up])\n",
    "        elif direction == 'down':\n",
    "            horizontal_zero_indices = np.argwhere(mask[bottom, :] <= 120)\n",
    "            distance_right = np.where(horizontal_zero_indices > right, horizontal_zero_indices, np.inf).min() - 1 - right\n",
    "            distance_left = left - np.where(horizontal_zero_indices < left, horizontal_zero_indices, -np.inf).max() + 1\n",
    "            corners = np.array([right + distance_right, bottom + distance_right + distance_left, left - distance_left, top])\n",
    "        elif direction == 'left':\n",
    "            vertical_zero_indices = np.argwhere(mask[:, left] <= 120)\n",
    "            distance_down = np.where(vertical_zero_indices > bottom, vertical_zero_indices, np.inf).min() - 1 - bottom\n",
    "            distance_up = top - np.where(vertical_zero_indices < top, vertical_zero_indices, -np.inf).max() + 1\n",
    "            corners = np.array([right, bottom + distance_down, left - distance_down - distance_up, top - distance_up])\n",
    "        else:\n",
    "            horizontal_zero_indices = np.argwhere(mask[top, :] <= 120)\n",
    "            distance_right = np.where(horizontal_zero_indices > right, horizontal_zero_indices, np.inf).min() - 1 - right\n",
    "            distance_left = left - np.where(horizontal_zero_indices < left, horizontal_zero_indices, -np.inf).max() + 1\n",
    "            corners = np.array([right + distance_right, bottom, left - distance_left, top - distance_right - distance_left])\n",
    "    \n",
    "    return corners"
   ]
  },
  {
   "cell_type": "code",
   "execution_count": 75,
   "metadata": {},
   "outputs": [],
   "source": [
    "def fix_side_validity(corners, mask, direction, side_validity):\n",
    "    # If there are two or more valid sides, don't do anything\n",
    "    if side_validity < 2:\n",
    "        right = int(min(corners[0], (mask.shape[1] - 1)))\n",
    "        bottom = int(min(corners[1], (mask.shape[0] - 1)))\n",
    "        left = int(max(corners[2], 0))\n",
    "        top = int(max(corners[3], 0))\n",
    "\n",
    "        # Fixing invalid sides\n",
    "        # Process here will be to check the three sides (excluding the one the original width lies on)\n",
    "        # And find the distances from the side to the furthest epithelium point outside\n",
    "        # Whichever two sides have the shortest distances will expand by that amount\n",
    "        # At that point, the square should be valid because the corners have already been verified and now the entire width\n",
    "        # of the epithelium in that region is inside the square\n",
    "        right_distance = np.min(np.where(np.all(mask[top:bottom, right:] < 160, axis = 0))[0])\n",
    "        bottom_distance = np.min(np.where(np.all(mask[bottom:, left:right] < 160, axis = 1))[0])\n",
    "        left_distance = np.max(np.where(np.all(mask[top:bottom, :left] < 160, axis = 0))[0]) - left\n",
    "        top_distance = np.max(np.where(np.all(mask[:top, left:right] < 160, axis = 1))[0]) - top\n",
    "\n",
    "        if direction == 'right':\n",
    "            left_distance = 0\n",
    "        elif direction == 'down':\n",
    "            top_distance = 0\n",
    "        elif direction == 'left':\n",
    "            right_distance = 0\n",
    "        else:\n",
    "            bottom_distance = 0\n",
    "\n",
    "        distances = np.array([right_distance, bottom_distance, left_distance, top_distance])\n",
    "        # If absolute maximum distance only occurs once\n",
    "        if np.unique(np.abs(distances), return_counts = True)[1][-1] == 1:\n",
    "            # Set maximum to 0 so adding distances array to corners array doesn't change that axes\n",
    "            distances = np.where(np.abs(distances) == np.max(np.abs(distances)), 0, distances)\n",
    "        # Otherwise, if the absolute maximum distance occurs multiple times\n",
    "        updated_corners = corners + distances\n",
    "\n",
    "        # Have to maintain square shape, so difference in vertical expansion and horizontal expansion is added to the\n",
    "        # side that expanded less and was not the original line\n",
    "        vertical_expansion = distances[1] - distances[3]\n",
    "        horizontal_expansion = distances[0] - distances[2]\n",
    "        vertical_horizontal_difference = vertical_expansion - horizontal_expansion\n",
    "        \n",
    "        if vertical_horizontal_difference > 0:\n",
    "            if direction == 'left':\n",
    "                updated_corners[2] = updated_corners[2] - vertical_horizontal_difference\n",
    "            else:\n",
    "                updated_corners[0] = updated_corners[0] + vertical_horizontal_difference\n",
    "        else:\n",
    "            if direction == 'down':\n",
    "                updated_corners[1] = updated_corners[1] - vertical_horizontal_difference\n",
    "            else:\n",
    "                updated_corners[3] = updated_corners[3] + vertical_horizontal_difference\n",
    "    else:\n",
    "        updated_corners = corners\n",
    "    \n",
    "    return updated_corners"
   ]
  },
  {
   "cell_type": "markdown",
   "metadata": {},
   "source": [
    "### Draw Square"
   ]
  },
  {
   "cell_type": "code",
   "execution_count": 76,
   "metadata": {},
   "outputs": [],
   "source": [
    "def draw_square(current_point, width, mask, direction, corners_dict):\n",
    "    # combining all of the helper functions above into one more or less\n",
    "    corners = get_corners(current_point, width, direction)\n",
    "    # Check overlap immediately as to not waste time on expanding a doomed square\n",
    "    if get_overlap(corners, mask)[0] == False:\n",
    "        corner_validity, _ = get_corner_validity(corners, mask)\n",
    "        corners = fix_corner_validity(corners, mask, direction, corner_validity)\n",
    "        side_validity, _ = get_side_validity(corners, mask)\n",
    "        # Keep adjusting sides until they meet square validity\n",
    "        while side_validity < 2:\n",
    "            corners = fix_side_validity(corners, mask, direction, side_validity)\n",
    "            side_validity, _  = get_side_validity(corners, mask)\n",
    "        width = corners[0] - corners[2]\n",
    "        if get_overlap(corners, mask)[0] == False:\n",
    "            corners_dict[(corners[1], corners[0])] = np.append(corners, width)\n",
    "    else:\n",
    "        corners = None\n",
    "    return corners, corners_dict"
   ]
  },
  {
   "cell_type": "markdown",
   "metadata": {},
   "source": [
    "### Color Patched Points"
   ]
  },
  {
   "cell_type": "code",
   "execution_count": 77,
   "metadata": {},
   "outputs": [],
   "source": [
    "def color_points(corners, mask):\n",
    "    right = int(min(corners[0], (mask.shape[1] - 1)))\n",
    "    bottom = int(min(corners[1], (mask.shape[0] - 1)))\n",
    "    left = int(max(corners[2], 0))\n",
    "    top = int(max(corners[3], 0))\n",
    "\n",
    "    # Changing color-grading of epithelial and non-epithelial points to show they've been covered\n",
    "    # 210 for overlapping epithelium patched points\n",
    "    mask[top:bottom, left:right] = np.where(mask[top:bottom, left:right] == 160, 210, mask[top:bottom, left:right])\n",
    "    # 160 for patched epithelium\n",
    "    mask[top:bottom, left:right] = np.where(mask[top:bottom, left:right] == 255, 160, mask[top:bottom, left:right])\n",
    "    # 120 for overlapping non-epithelium patched points\n",
    "    mask[top:bottom, left:right] = np.where(mask[top:bottom, left:right] == 80, 120, mask[top:bottom, left:right])\n",
    "    # 80 for patched non-epithelium\n",
    "    mask[top:bottom, left:right] = np.where(mask[top:bottom, left:right] == 0, 80, mask[top:bottom, left:right])\n",
    "\n",
    "    return mask\n",
    "    "
   ]
  },
  {
   "cell_type": "markdown",
   "metadata": {},
   "source": [
    "### Get Next Points"
   ]
  },
  {
   "cell_type": "code",
   "execution_count": 78,
   "metadata": {},
   "outputs": [],
   "source": [
    "def get_next_points(corners, mask):\n",
    "    # Getting side validities for each side of the square\n",
    "    _, side_validity_array = get_side_validity(corners, mask)\n",
    "\n",
    "    right = int(min(corners[0], (mask.shape[1] - 1)))\n",
    "    bottom = int(min(corners[1], (mask.shape[0] - 1)))\n",
    "    left = int(max(corners[2], 0))\n",
    "    top = int(max(corners[3], 0))\n",
    "    \n",
    "    next_points = []\n",
    "    # Using previous square to determine where we can go next\n",
    "    if side_validity_array[0] == False:\n",
    "        next_points.append([np.array([np.min(np.where(mask[top:bottom, right])) + top, right]), 'right'])\n",
    "        next_points.append([np.array([np.max(np.where(mask[top:bottom, right])) + top, right]), 'right'])\n",
    "    if side_validity_array[1] == False:\n",
    "        next_points.append([np.array([bottom, np.min(np.where(mask[bottom, left:right])) + left]), 'down'])\n",
    "        next_points.append([np.array([bottom, np.max(np.where(mask[bottom, left:right])) + left]), 'down'])\n",
    "    if side_validity_array[2] == False:\n",
    "        next_points.append([np.array([np.min(np.where(mask[top:bottom, left - 1])) + top, left - 1]), 'left'])\n",
    "        next_points.append([np.array([np.max(np.where(mask[top:bottom, left - 1])) + top, left - 1]), 'left'])\n",
    "    if side_validity_array[3] == False:\n",
    "        next_points.append([np.array([top - 1, np.min(np.where(mask[top - 1, left:right])) + left]), 'up'])\n",
    "        next_points.append([np.array([top - 1, np.max(np.where(mask[top - 1, left:right])) + left]), 'up'])\n",
    "\n",
    "    return next_points\n",
    "        "
   ]
  },
  {
   "cell_type": "markdown",
   "metadata": {},
   "source": [
    "### Plot Patching on Grayscale Mask"
   ]
  },
  {
   "cell_type": "code",
   "execution_count": 79,
   "metadata": {},
   "outputs": [],
   "source": [
    "def plot_patches_mask(annotation, corners_dict, plots = True):\n",
    "    # Function to plot all of the patches on the grayscale mask\n",
    "    # This will be used for calculating metrics\n",
    "    annotation_gray = cv.cvtColor(annotation, cv.COLOR_RGB2GRAY)\n",
    "    annotation_gray = np.where(annotation_gray == 255, 0, 255)\n",
    "    for corners in corners_dict.values():\n",
    "        annotation_gray = color_points(corners, annotation_gray)\n",
    "    if plots == True:\n",
    "        plt.figure(figsize = (8, 8))\n",
    "        plt.imshow(annotation_gray, cmap = 'gray', vmin = 0, vmax = 255)\n",
    "        plt.title(\"Patched Grayscale Mask\")\n",
    "        plt.show()\n",
    "    return annotation_gray\n"
   ]
  },
  {
   "cell_type": "markdown",
   "metadata": {},
   "source": [
    "### Get Metrics"
   ]
  },
  {
   "cell_type": "code",
   "execution_count": 80,
   "metadata": {},
   "outputs": [],
   "source": [
    "def patching_metrics(annotation_gray, corners_dict):\n",
    "    # Epithelium coverage\n",
    "    patched_epithelial_pixels = np.count_nonzero(annotation_gray == 160)\n",
    "    patched_overlapping_epithelial_pixels = np.count_nonzero(annotation_gray == 210)\n",
    "    total_patched_epithelial_pixels = patched_epithelial_pixels + patched_overlapping_epithelial_pixels\n",
    "    total_epithelial_pixels = np.count_nonzero(annotation_gray == 255) + total_patched_epithelial_pixels\n",
    "    epithelium_coverage = (total_patched_epithelial_pixels/total_epithelial_pixels) * 100\n",
    "\n",
    "    # % of patch area outside epithelium\n",
    "    patched_non_epithelial_pixels = np.count_nonzero(annotation_gray == 80)\n",
    "    patched_overlapping_non_epithelial_pixels = np.count_nonzero(annotation_gray == 120)\n",
    "    total_patched_non_epithelial_pixels = patched_non_epithelial_pixels + patched_overlapping_non_epithelial_pixels\n",
    "    total_patched_pixels = total_patched_epithelial_pixels + total_patched_non_epithelial_pixels\n",
    "    percentage_patch_area_outside_epithelium = (total_patched_non_epithelial_pixels/total_patched_pixels) * 100\n",
    "\n",
    "    # Number of patches\n",
    "    number_of_patches = len(corners_dict)\n",
    "\n",
    "    # % patch area overlap\n",
    "    total_overlapping_patched_pixels = patched_overlapping_epithelial_pixels + patched_overlapping_non_epithelial_pixels\n",
    "    total_patched_pixels = total_overlapping_patched_pixels + patched_epithelial_pixels + patched_non_epithelial_pixels\n",
    "    percentage_patch_area_overlap = (total_overlapping_patched_pixels/total_patched_pixels) * 100\n",
    "\n",
    "    print(f\"Percentage of Epithelium Covered: {epithelium_coverage:.2f}%\")\n",
    "    print(f\"Percentage of Patch Area Outside Epithelium: {percentage_patch_area_outside_epithelium:.2f}%\")\n",
    "    print(f\"Number of Patches: {number_of_patches}\")\n",
    "    print(f\"Percentage of Patch Area Overlap: {percentage_patch_area_overlap:.2f}%\")"
   ]
  },
  {
   "cell_type": "markdown",
   "metadata": {},
   "source": [
    "### Plot Patches on Original Slice"
   ]
  },
  {
   "cell_type": "code",
   "execution_count": 81,
   "metadata": {},
   "outputs": [],
   "source": [
    "def plot_patches_slice(slice, corners_dict, plots = True):\n",
    "    for corners in corners_dict.values():\n",
    "        right = int(min(corners[0], (slice.shape[1] - 1)))\n",
    "        bottom = int(min(corners[1], (slice.shape[0] - 1)))\n",
    "        left = int(max(corners[2], 0))\n",
    "        top = int(max(corners[3], 0))\n",
    "        cv.rectangle(slice, (left, top), (right, bottom), (255, 0, 0), 5)\n",
    "    if plots == True:\n",
    "        plt.figure(figsize=(8, 8))\n",
    "        plt.title(\"Patched Slice\")\n",
    "        plt.imshow(slice)\n",
    "        plt.show()"
   ]
  },
  {
   "cell_type": "markdown",
   "metadata": {},
   "source": [
    "### Parent Function"
   ]
  },
  {
   "cell_type": "code",
   "execution_count": 82,
   "metadata": {},
   "outputs": [],
   "source": [
    "def patch_slice(annotation_path, slice_path, number_centering_moves = 3, plots = True, starting_point = None):\n",
    "    annotation, slice = load_image(annotation_path, slice_path, plots)\n",
    "    masks = get_masks(annotation, slice, plots)\n",
    "    corners_dict = {}\n",
    "    for entry in masks:\n",
    "        mask = entry['mask']\n",
    "        epithelium_points = entry['epithelium_points']\n",
    "        np.random.seed(1)\n",
    "        if not starting_point:\n",
    "            starting_point = epithelium_points[np.random.randint(len(epithelium_points), size = 1)][0]\n",
    "        current_point, directions, width = center(mask, starting_point, number_centering_moves)\n",
    "        corners, corners_dict = draw_square(current_point, width, mask, directions[0], corners_dict)\n",
    "        mask = color_points(corners, mask)\n",
    "        next_points = deque()\n",
    "        next_points.extend(get_next_points(corners, mask))\n",
    "        while next_points:\n",
    "            point_array = next_points.popleft()\n",
    "            current_point, potential_direction = point_array[0], point_array[1]\n",
    "            current_point, directions, width = center(mask, current_point, number_centering_moves)\n",
    "            if potential_direction in directions:\n",
    "                corners, corners_dict = draw_square(current_point, width, mask, potential_direction, corners_dict)\n",
    "            else:\n",
    "                corners, corners_dict = draw_square(current_point, width, mask, directions[0], corners_dict)\n",
    "            if corners is not None:\n",
    "                mask = color_points(corners, mask)\n",
    "                next_points.extend(get_next_points(corners, mask))\n",
    "    annotation_gray = plot_patches_mask(annotation, corners_dict, plots)\n",
    "    patching_metrics(annotation_gray, corners_dict)\n",
    "    plot_patches_slice(slice, corners_dict, plots)"
   ]
  },
  {
   "cell_type": "markdown",
   "metadata": {},
   "source": [
    "## Algorithm"
   ]
  },
  {
   "cell_type": "code",
   "execution_count": 84,
   "metadata": {},
   "outputs": [
    {
     "name": "stdout",
     "output_type": "stream",
     "text": [
      "Annotation Shape: (5832, 2428, 3) \n",
      "Slice Shape: (5832, 2428, 3)\n"
     ]
    },
    {
     "ename": "KeyboardInterrupt",
     "evalue": "",
     "output_type": "error",
     "traceback": [
      "\u001b[1;31m---------------------------------------------------------------------------\u001b[0m",
      "\u001b[1;31mKeyboardInterrupt\u001b[0m                         Traceback (most recent call last)",
      "Cell \u001b[1;32mIn[84], line 5\u001b[0m\n\u001b[0;32m      2\u001b[0m annotation_path \u001b[38;5;241m=\u001b[39m \u001b[38;5;124m\"\u001b[39m\u001b[38;5;124m./images/epithelium_extraction/export/h2114153  h&e_4-labels.png\u001b[39m\u001b[38;5;124m\"\u001b[39m\n\u001b[0;32m      3\u001b[0m slice_path \u001b[38;5;241m=\u001b[39m \u001b[38;5;124m\"\u001b[39m\u001b[38;5;124m./images/tif_stains/h2114153  h&e_4.tif\u001b[39m\u001b[38;5;124m\"\u001b[39m\n\u001b[1;32m----> 5\u001b[0m \u001b[43mpatch_slice\u001b[49m\u001b[43m(\u001b[49m\u001b[43mannotation_path\u001b[49m\u001b[43m,\u001b[49m\u001b[43m \u001b[49m\u001b[43mslice_path\u001b[49m\u001b[43m,\u001b[49m\u001b[43m \u001b[49m\u001b[43mplots\u001b[49m\u001b[43m \u001b[49m\u001b[38;5;241;43m=\u001b[39;49m\u001b[43m \u001b[49m\u001b[38;5;28;43;01mFalse\u001b[39;49;00m\u001b[43m)\u001b[49m\n",
      "Cell \u001b[1;32mIn[82], line 23\u001b[0m, in \u001b[0;36mpatch_slice\u001b[1;34m(annotation_path, slice_path, number_centering_moves, plots, starting_point)\u001b[0m\n\u001b[0;32m     21\u001b[0m     corners, corners_dict \u001b[38;5;241m=\u001b[39m draw_square(current_point, width, mask, potential_direction, corners_dict)\n\u001b[0;32m     22\u001b[0m \u001b[38;5;28;01melse\u001b[39;00m:\n\u001b[1;32m---> 23\u001b[0m     corners, corners_dict \u001b[38;5;241m=\u001b[39m \u001b[43mdraw_square\u001b[49m\u001b[43m(\u001b[49m\u001b[43mcurrent_point\u001b[49m\u001b[43m,\u001b[49m\u001b[43m \u001b[49m\u001b[43mwidth\u001b[49m\u001b[43m,\u001b[49m\u001b[43m \u001b[49m\u001b[43mmask\u001b[49m\u001b[43m,\u001b[49m\u001b[43m \u001b[49m\u001b[43mdirections\u001b[49m\u001b[43m[\u001b[49m\u001b[38;5;241;43m0\u001b[39;49m\u001b[43m]\u001b[49m\u001b[43m,\u001b[49m\u001b[43m \u001b[49m\u001b[43mcorners_dict\u001b[49m\u001b[43m)\u001b[49m\n\u001b[0;32m     24\u001b[0m \u001b[38;5;28;01mif\u001b[39;00m corners \u001b[38;5;129;01mis\u001b[39;00m \u001b[38;5;129;01mnot\u001b[39;00m \u001b[38;5;28;01mNone\u001b[39;00m:\n\u001b[0;32m     25\u001b[0m     mask \u001b[38;5;241m=\u001b[39m color_points(corners, mask)\n",
      "Cell \u001b[1;32mIn[76], line 11\u001b[0m, in \u001b[0;36mdraw_square\u001b[1;34m(current_point, width, mask, direction, corners_dict)\u001b[0m\n\u001b[0;32m      9\u001b[0m \u001b[38;5;66;03m# Keep adjusting sides until they meet square validity\u001b[39;00m\n\u001b[0;32m     10\u001b[0m \u001b[38;5;28;01mwhile\u001b[39;00m side_validity \u001b[38;5;241m<\u001b[39m \u001b[38;5;241m2\u001b[39m:\n\u001b[1;32m---> 11\u001b[0m     corners \u001b[38;5;241m=\u001b[39m \u001b[43mfix_side_validity\u001b[49m\u001b[43m(\u001b[49m\u001b[43mcorners\u001b[49m\u001b[43m,\u001b[49m\u001b[43m \u001b[49m\u001b[43mmask\u001b[49m\u001b[43m,\u001b[49m\u001b[43m \u001b[49m\u001b[43mdirection\u001b[49m\u001b[43m,\u001b[49m\u001b[43m \u001b[49m\u001b[43mside_validity\u001b[49m\u001b[43m)\u001b[49m\n\u001b[0;32m     12\u001b[0m     side_validity, _  \u001b[38;5;241m=\u001b[39m get_side_validity(corners, mask)\n\u001b[0;32m     13\u001b[0m width \u001b[38;5;241m=\u001b[39m corners[\u001b[38;5;241m0\u001b[39m] \u001b[38;5;241m-\u001b[39m corners[\u001b[38;5;241m2\u001b[39m]\n",
      "Cell \u001b[1;32mIn[75], line 18\u001b[0m, in \u001b[0;36mfix_side_validity\u001b[1;34m(corners, mask, direction, side_validity)\u001b[0m\n\u001b[0;32m     16\u001b[0m bottom_distance \u001b[38;5;241m=\u001b[39m np\u001b[38;5;241m.\u001b[39mmin(np\u001b[38;5;241m.\u001b[39mwhere(np\u001b[38;5;241m.\u001b[39mall(mask[bottom:, left:right] \u001b[38;5;241m<\u001b[39m \u001b[38;5;241m160\u001b[39m, axis \u001b[38;5;241m=\u001b[39m \u001b[38;5;241m1\u001b[39m))[\u001b[38;5;241m0\u001b[39m])\n\u001b[0;32m     17\u001b[0m left_distance \u001b[38;5;241m=\u001b[39m np\u001b[38;5;241m.\u001b[39mmax(np\u001b[38;5;241m.\u001b[39mwhere(np\u001b[38;5;241m.\u001b[39mall(mask[top:bottom, :left] \u001b[38;5;241m<\u001b[39m \u001b[38;5;241m160\u001b[39m, axis \u001b[38;5;241m=\u001b[39m \u001b[38;5;241m0\u001b[39m))[\u001b[38;5;241m0\u001b[39m]) \u001b[38;5;241m-\u001b[39m left\n\u001b[1;32m---> 18\u001b[0m top_distance \u001b[38;5;241m=\u001b[39m np\u001b[38;5;241m.\u001b[39mmax(np\u001b[38;5;241m.\u001b[39mwhere(\u001b[43mnp\u001b[49m\u001b[38;5;241;43m.\u001b[39;49m\u001b[43mall\u001b[49m\u001b[43m(\u001b[49m\u001b[43mmask\u001b[49m\u001b[43m[\u001b[49m\u001b[43m:\u001b[49m\u001b[43mtop\u001b[49m\u001b[43m,\u001b[49m\u001b[43m \u001b[49m\u001b[43mleft\u001b[49m\u001b[43m:\u001b[49m\u001b[43mright\u001b[49m\u001b[43m]\u001b[49m\u001b[43m \u001b[49m\u001b[38;5;241;43m<\u001b[39;49m\u001b[43m \u001b[49m\u001b[38;5;241;43m160\u001b[39;49m\u001b[43m,\u001b[49m\u001b[43m \u001b[49m\u001b[43maxis\u001b[49m\u001b[43m \u001b[49m\u001b[38;5;241;43m=\u001b[39;49m\u001b[43m \u001b[49m\u001b[38;5;241;43m1\u001b[39;49m\u001b[43m)\u001b[49m)[\u001b[38;5;241m0\u001b[39m]) \u001b[38;5;241m-\u001b[39m top\n\u001b[0;32m     20\u001b[0m \u001b[38;5;28;01mif\u001b[39;00m direction \u001b[38;5;241m==\u001b[39m \u001b[38;5;124m'\u001b[39m\u001b[38;5;124mright\u001b[39m\u001b[38;5;124m'\u001b[39m:\n\u001b[0;32m     21\u001b[0m     left_distance \u001b[38;5;241m=\u001b[39m \u001b[38;5;241m0\u001b[39m\n",
      "File \u001b[1;32mc:\\Users\\jcols\\anaconda3\\envs\\stat_390_patching\\lib\\site-packages\\numpy\\core\\fromnumeric.py:2504\u001b[0m, in \u001b[0;36mall\u001b[1;34m(a, axis, out, keepdims, where)\u001b[0m\n\u001b[0;32m   2421\u001b[0m \u001b[38;5;129m@array_function_dispatch\u001b[39m(_all_dispatcher)\n\u001b[0;32m   2422\u001b[0m \u001b[38;5;28;01mdef\u001b[39;00m\u001b[38;5;250m \u001b[39m\u001b[38;5;21mall\u001b[39m(a, axis\u001b[38;5;241m=\u001b[39m\u001b[38;5;28;01mNone\u001b[39;00m, out\u001b[38;5;241m=\u001b[39m\u001b[38;5;28;01mNone\u001b[39;00m, keepdims\u001b[38;5;241m=\u001b[39mnp\u001b[38;5;241m.\u001b[39m_NoValue, \u001b[38;5;241m*\u001b[39m, where\u001b[38;5;241m=\u001b[39mnp\u001b[38;5;241m.\u001b[39m_NoValue):\n\u001b[0;32m   2423\u001b[0m \u001b[38;5;250m    \u001b[39m\u001b[38;5;124;03m\"\"\"\u001b[39;00m\n\u001b[0;32m   2424\u001b[0m \u001b[38;5;124;03m    Test whether all array elements along a given axis evaluate to True.\u001b[39;00m\n\u001b[0;32m   2425\u001b[0m \n\u001b[1;32m   (...)\u001b[0m\n\u001b[0;32m   2502\u001b[0m \n\u001b[0;32m   2503\u001b[0m \u001b[38;5;124;03m    \"\"\"\u001b[39;00m\n\u001b[1;32m-> 2504\u001b[0m     \u001b[38;5;28;01mreturn\u001b[39;00m \u001b[43m_wrapreduction\u001b[49m\u001b[43m(\u001b[49m\u001b[43ma\u001b[49m\u001b[43m,\u001b[49m\u001b[43m \u001b[49m\u001b[43mnp\u001b[49m\u001b[38;5;241;43m.\u001b[39;49m\u001b[43mlogical_and\u001b[49m\u001b[43m,\u001b[49m\u001b[43m \u001b[49m\u001b[38;5;124;43m'\u001b[39;49m\u001b[38;5;124;43mall\u001b[39;49m\u001b[38;5;124;43m'\u001b[39;49m\u001b[43m,\u001b[49m\u001b[43m \u001b[49m\u001b[43maxis\u001b[49m\u001b[43m,\u001b[49m\u001b[43m \u001b[49m\u001b[38;5;28;43;01mNone\u001b[39;49;00m\u001b[43m,\u001b[49m\u001b[43m \u001b[49m\u001b[43mout\u001b[49m\u001b[43m,\u001b[49m\n\u001b[0;32m   2505\u001b[0m \u001b[43m                          \u001b[49m\u001b[43mkeepdims\u001b[49m\u001b[38;5;241;43m=\u001b[39;49m\u001b[43mkeepdims\u001b[49m\u001b[43m,\u001b[49m\u001b[43m \u001b[49m\u001b[43mwhere\u001b[49m\u001b[38;5;241;43m=\u001b[39;49m\u001b[43mwhere\u001b[49m\u001b[43m)\u001b[49m\n",
      "File \u001b[1;32mc:\\Users\\jcols\\anaconda3\\envs\\stat_390_patching\\lib\\site-packages\\numpy\\core\\fromnumeric.py:88\u001b[0m, in \u001b[0;36m_wrapreduction\u001b[1;34m(obj, ufunc, method, axis, dtype, out, **kwargs)\u001b[0m\n\u001b[0;32m     85\u001b[0m         \u001b[38;5;28;01melse\u001b[39;00m:\n\u001b[0;32m     86\u001b[0m             \u001b[38;5;28;01mreturn\u001b[39;00m reduction(axis\u001b[38;5;241m=\u001b[39maxis, out\u001b[38;5;241m=\u001b[39mout, \u001b[38;5;241m*\u001b[39m\u001b[38;5;241m*\u001b[39mpasskwargs)\n\u001b[1;32m---> 88\u001b[0m \u001b[38;5;28;01mreturn\u001b[39;00m ufunc\u001b[38;5;241m.\u001b[39mreduce(obj, axis, dtype, out, \u001b[38;5;241m*\u001b[39m\u001b[38;5;241m*\u001b[39mpasskwargs)\n",
      "\u001b[1;31mKeyboardInterrupt\u001b[0m: "
     ]
    }
   ],
   "source": [
    "# Fill in paths for annotated slice and original .tif image here\n",
    "annotation_path = \"./images/epithelium_extraction/export/h2114153  h&e_4-labels.png\"\n",
    "slice_path = \"./images/tif_stains/h2114153  h&e_4.tif\"\n",
    "\n",
    "patch_slice(annotation_path, slice_path)"
   ]
  }
 ],
 "metadata": {
  "kernelspec": {
   "display_name": "Python 3 (ipykernel)",
   "language": "python",
   "name": "python3"
  },
  "language_info": {
   "codemirror_mode": {
    "name": "ipython",
    "version": 3
   },
   "file_extension": ".py",
   "mimetype": "text/x-python",
   "name": "python",
   "nbconvert_exporter": "python",
   "pygments_lexer": "ipython3",
   "version": "3.8.17"
  }
 },
 "nbformat": 4,
 "nbformat_minor": 2
}
